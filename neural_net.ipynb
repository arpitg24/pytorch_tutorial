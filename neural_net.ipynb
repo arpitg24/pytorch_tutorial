{
  "nbformat": 4,
  "nbformat_minor": 0,
  "metadata": {
    "colab": {
      "name": "neural_net.ipynb",
      "provenance": [],
      "authorship_tag": "ABX9TyOwfAlTbFxYMqyOOLCOPoNg",
      "include_colab_link": true
    },
    "kernelspec": {
      "name": "python3",
      "display_name": "Python 3"
    },
    "accelerator": "GPU"
  },
  "cells": [
    {
      "cell_type": "markdown",
      "metadata": {
        "id": "view-in-github",
        "colab_type": "text"
      },
      "source": [
        "<a href=\"https://colab.research.google.com/github/sankalp24/pytorch_tutorial/blob/master/neural_net.ipynb\" target=\"_parent\"><img src=\"https://colab.research.google.com/assets/colab-badge.svg\" alt=\"Open In Colab\"/></a>"
      ]
    },
    {
      "cell_type": "code",
      "metadata": {
        "id": "u2VncSqw5Mrx",
        "colab_type": "code",
        "colab": {
          "base_uri": "https://localhost:8080/",
          "height": 139
        },
        "outputId": "17cd35c6-6e8d-4d11-90fb-20c60f8ace19"
      },
      "source": [
        "import torch\n",
        "import torch.nn as nn\n",
        "import torch.nn.functional as F\n",
        "\n",
        "\n",
        "class Net(nn.Module):\n",
        "\n",
        "    def __init__(self):\n",
        "        super(Net, self).__init__()\n",
        "        # 1 input image channel, 6 output channels, 3x3 square convolution\n",
        "        # kernel\n",
        "        self.conv1 = nn.Conv2d(1, 6, 3)\n",
        "        self.conv2 = nn.Conv2d(6, 16, 3)\n",
        "        # an affine operation: y = Wx + b\n",
        "        self.fc1 = nn.Linear(16 * 6 * 6, 120)  # 6*6 from image dimension\n",
        "        self.fc2 = nn.Linear(120, 84)\n",
        "        self.fc3 = nn.Linear(84, 10)\n",
        "\n",
        "    def forward(self, x):\n",
        "        # Max pooling over a (2, 2) window\n",
        "        x = F.max_pool2d(F.relu(self.conv1(x)), (2, 2))\n",
        "        # If the size is a square you can only specify a single number\n",
        "        x = F.max_pool2d(F.relu(self.conv2(x)), 2)\n",
        "        x = x.view(-1, self.num_flat_features(x))\n",
        "        x = F.relu(self.fc1(x))\n",
        "        x = F.relu(self.fc2(x))\n",
        "        x = self.fc3(x)\n",
        "        return x\n",
        "\n",
        "    def num_flat_features(self, x):\n",
        "        size = x.size()[1:]  # all dimensions except the batch dimension\n",
        "        num_features = 1\n",
        "        for s in size:\n",
        "            num_features *= s\n",
        "        return num_features\n",
        "\n",
        "\n",
        "net = Net()\n",
        "print(net)"
      ],
      "execution_count": 2,
      "outputs": [
        {
          "output_type": "stream",
          "text": [
            "Net(\n",
            "  (conv1): Conv2d(1, 6, kernel_size=(3, 3), stride=(1, 1))\n",
            "  (conv2): Conv2d(6, 16, kernel_size=(3, 3), stride=(1, 1))\n",
            "  (fc1): Linear(in_features=576, out_features=120, bias=True)\n",
            "  (fc2): Linear(in_features=120, out_features=84, bias=True)\n",
            "  (fc3): Linear(in_features=84, out_features=10, bias=True)\n",
            ")\n"
          ],
          "name": "stdout"
        }
      ]
    },
    {
      "cell_type": "code",
      "metadata": {
        "id": "YRGDXfS7lx9A",
        "colab_type": "code",
        "colab": {
          "base_uri": "https://localhost:8080/",
          "height": 538
        },
        "outputId": "40b9739b-116b-46f5-ee7f-50b641438395"
      },
      "source": [
        "params = list(net.parameters())\n",
        "#print(params)\n",
        "print(len(params))\n",
        "print(params[0])  # conv1's .weight"
      ],
      "execution_count": 3,
      "outputs": [
        {
          "output_type": "stream",
          "text": [
            "10\n",
            "Parameter containing:\n",
            "tensor([[[[ 0.0699,  0.1504,  0.2788],\n",
            "          [ 0.2885,  0.1590,  0.1012],\n",
            "          [-0.2921,  0.1604,  0.0300]]],\n",
            "\n",
            "\n",
            "        [[[-0.2717, -0.1456,  0.2601],\n",
            "          [ 0.2105, -0.0905, -0.0184],\n",
            "          [ 0.1171, -0.2005, -0.0287]]],\n",
            "\n",
            "\n",
            "        [[[-0.1364,  0.0765, -0.2732],\n",
            "          [-0.3194, -0.0322,  0.0618],\n",
            "          [ 0.1121, -0.0515, -0.2312]]],\n",
            "\n",
            "\n",
            "        [[[-0.0159,  0.0643,  0.3286],\n",
            "          [-0.0297,  0.0367,  0.0331],\n",
            "          [-0.1310, -0.2246,  0.2448]]],\n",
            "\n",
            "\n",
            "        [[[-0.3024,  0.2571, -0.2058],\n",
            "          [-0.1682, -0.1395, -0.0931],\n",
            "          [ 0.0677,  0.1397,  0.0627]]],\n",
            "\n",
            "\n",
            "        [[[-0.2123,  0.0550,  0.3133],\n",
            "          [-0.2045,  0.1912,  0.2148],\n",
            "          [ 0.0462, -0.1987, -0.0334]]]], requires_grad=True)\n"
          ],
          "name": "stdout"
        }
      ]
    },
    {
      "cell_type": "code",
      "metadata": {
        "id": "3YVWEimGp3KR",
        "colab_type": "code",
        "colab": {
          "base_uri": "https://localhost:8080/",
          "height": 173
        },
        "outputId": "fab2d423-4d57-4ee8-96ed-e1040857a8e6"
      },
      "source": [
        "input = torch.randn(1, 1, 32, 32)\n",
        "print(input)\n",
        "out = net(input)\n",
        "print(out)"
      ],
      "execution_count": 4,
      "outputs": [
        {
          "output_type": "stream",
          "text": [
            "tensor([[[[ 0.2326, -1.0478,  0.1373,  ...,  0.7816, -1.3431,  1.6413],\n",
            "          [-0.9341, -0.0457, -0.1517,  ...,  2.3895, -0.1579, -0.7628],\n",
            "          [ 0.0981, -0.6117, -2.4312,  ..., -0.7317,  1.0210,  0.2896],\n",
            "          ...,\n",
            "          [ 1.3058,  0.3217, -1.2373,  ...,  0.1869, -0.1296, -2.1397],\n",
            "          [ 0.0313,  0.2503, -0.6496,  ...,  0.1277, -0.0641,  0.7040],\n",
            "          [-0.6344,  1.7684, -0.7530,  ...,  1.9481,  0.8835,  0.8903]]]])\n",
            "tensor([[-0.1264, -0.0028, -0.0123, -0.0795, -0.0469,  0.0367, -0.0363,  0.1016,\n",
            "          0.1393,  0.0341]], grad_fn=<AddmmBackward>)\n"
          ],
          "name": "stdout"
        }
      ]
    },
    {
      "cell_type": "code",
      "metadata": {
        "id": "MbXegWoGq5Ej",
        "colab_type": "code",
        "colab": {}
      },
      "source": [
        "net.zero_grad()\n",
        "out.backward(torch.randn(1, 10))"
      ],
      "execution_count": 0,
      "outputs": []
    },
    {
      "cell_type": "code",
      "metadata": {
        "id": "itNc1OWJIphH",
        "colab_type": "code",
        "colab": {
          "base_uri": "https://localhost:8080/",
          "height": 34
        },
        "outputId": "b2679670-5ea0-41f1-db26-f6c636a541c7"
      },
      "source": [
        "output = net(input)\n",
        "target = torch.randn(10)  # a dummy target, for example\n",
        "target = target.view(1, -1)  # make it the same shape as output\n",
        "criterion = nn.MSELoss()\n",
        "\n",
        "loss = criterion(output, target)\n",
        "print(loss)"
      ],
      "execution_count": 6,
      "outputs": [
        {
          "output_type": "stream",
          "text": [
            "tensor(1.3886, grad_fn=<MseLossBackward>)\n"
          ],
          "name": "stdout"
        }
      ]
    },
    {
      "cell_type": "code",
      "metadata": {
        "id": "wpJv4NdnK7qa",
        "colab_type": "code",
        "colab": {
          "base_uri": "https://localhost:8080/",
          "height": 69
        },
        "outputId": "debb4f00-e74c-4bdd-c0ae-98cf61b0bd1a"
      },
      "source": [
        "print(loss.grad_fn)  # MSELoss\n",
        "print(loss.grad_fn.next_functions[0][0])  # Linear\n",
        "print(loss.grad_fn.next_functions[0][0].next_functions[0][0])  # ReLU"
      ],
      "execution_count": 7,
      "outputs": [
        {
          "output_type": "stream",
          "text": [
            "<MseLossBackward object at 0x7f485ac4cbe0>\n",
            "<AddmmBackward object at 0x7f485ac4cc88>\n",
            "<AccumulateGrad object at 0x7f485b4cfcf8>\n"
          ],
          "name": "stdout"
        }
      ]
    },
    {
      "cell_type": "code",
      "metadata": {
        "id": "lRzqgu3KLIf8",
        "colab_type": "code",
        "colab": {
          "base_uri": "https://localhost:8080/",
          "height": 86
        },
        "outputId": "9cdeb158-0127-4e5f-c95a-e38460a0c691"
      },
      "source": [
        "net.zero_grad()     # zeroes the gradient buffers of all parameters\n",
        "\n",
        "print('conv1.bias.grad before backward')\n",
        "print(net.conv1.bias.grad)\n",
        "\n",
        "loss.backward()\n",
        "\n",
        "print('conv1.bias.grad after backward')\n",
        "print(net.conv1.bias.grad)"
      ],
      "execution_count": 8,
      "outputs": [
        {
          "output_type": "stream",
          "text": [
            "conv1.bias.grad before backward\n",
            "tensor([0., 0., 0., 0., 0., 0.])\n",
            "conv1.bias.grad after backward\n",
            "tensor([-0.0003, -0.0011, -0.0133,  0.0246,  0.0054,  0.0216])\n"
          ],
          "name": "stdout"
        }
      ]
    },
    {
      "cell_type": "code",
      "metadata": {
        "id": "WkuGXlijLQIY",
        "colab_type": "code",
        "colab": {}
      },
      "source": [
        "learning_rate = 0.01\n",
        "for f in net.parameters():\n",
        "    f.data.sub_(f.grad.data * learning_rate)"
      ],
      "execution_count": 0,
      "outputs": []
    },
    {
      "cell_type": "code",
      "metadata": {
        "id": "OEoeBY7bLTli",
        "colab_type": "code",
        "colab": {}
      },
      "source": [
        "import torch.optim as optim\n",
        "\n",
        "# create your optimizer\n",
        "optimizer = optim.SGD(net.parameters(), lr=0.01)\n",
        "\n",
        "# in your training loop:\n",
        "optimizer.zero_grad()   # zero the gradient buffers\n",
        "output = net(input)\n",
        "loss = criterion(output, target)\n",
        "loss.backward()\n",
        "optimizer.step()    # Does the update"
      ],
      "execution_count": 0,
      "outputs": []
    },
    {
      "cell_type": "code",
      "metadata": {
        "id": "O_4rhYLALaoN",
        "colab_type": "code",
        "colab": {}
      },
      "source": [
        ""
      ],
      "execution_count": 0,
      "outputs": []
    }
  ]
}